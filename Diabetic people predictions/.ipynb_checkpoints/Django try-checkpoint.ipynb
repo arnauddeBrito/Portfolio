{
 "cells": [
  {
   "cell_type": "code",
   "execution_count": 1,
   "metadata": {},
   "outputs": [
    {
     "name": "stdout",
     "output_type": "stream",
     "text": [
      "Requirement already satisfied: django in c:\\users\\const\\anaconda3\\envs\\djangoenv\\lib\\site-packages (2.2.5)\n",
      "Requirement already satisfied: sqlparse in c:\\users\\const\\anaconda3\\envs\\djangoenv\\lib\\site-packages (from django) (0.4.1)Note: you may need to restart the kernel to use updated packages.\n",
      "\n",
      "Requirement already satisfied: pytz in c:\\users\\const\\anaconda3\\envs\\djangoenv\\lib\\site-packages (from django) (2020.1)\n"
     ]
    }
   ],
   "source": [
    "pip install django"
   ]
  },
  {
   "cell_type": "raw",
   "metadata": {},
   "source": [
    "python -m django --version\n",
    "cd Python-Diabete\n",
    "mkdir django\n",
    "cd django\n",
    "django-admin startproject diabetes\n",
    "cd django/diabetes\n",
    "python manage.py runserver\n",
    "** prendre l'adresse http:// ... (ex : http://127.0.0.1:8000/polls)\n",
    "ctrl+C"
   ]
  },
  {
   "cell_type": "code",
   "execution_count": null,
   "metadata": {},
   "outputs": [],
   "source": [
    "#dans django/diabetes/diabete/urls.py :\n",
    "\n",
    "from django.contrib import admin\n",
    "from django.urls import include,path\n",
    "\n",
    "urlpatterns = [\n",
    "    path('polls/',include('polls.urls')),\n",
    "    path('admin/', admin.site.urls),\n",
    "]"
   ]
  },
  {
   "cell_type": "code",
   "execution_count": null,
   "metadata": {},
   "outputs": [],
   "source": [
    "#dans django/diabetes/polls/urls.py :\n",
    "    \n",
    "from django.urls import path\n",
    "\n",
    "from . import views\n",
    "urlpatterns=[path('', views.index,name='index'),]"
   ]
  },
  {
   "cell_type": "code",
   "execution_count": null,
   "metadata": {},
   "outputs": [],
   "source": [
    "#dans django/diabetes/polls/views.py :\n",
    "    \n",
    "from django.http import HttpResponse\n",
    "\n",
    "def index(request):\n",
    "    return HttpResponse(\"Hello, world. You're at the polls index\")"
   ]
  },
  {
   "cell_type": "raw",
   "metadata": {},
   "source": [
    "python manage.py migrate\n",
    "python manage.py startapp polls\n",
    "python manage.py runserver\n",
    "python manage.py migrate\n",
    "python manage.py createsuperuser\n",
    "** username : diabetes\n",
    "** email address: constance.le_fourn@edu.devinci.fr\n",
    "** password : ConArnNic\n",
    "\n",
    "recopier code python  dans views"
   ]
  },
  {
   "cell_type": "code",
   "execution_count": null,
   "metadata": {},
   "outputs": [],
   "source": []
  },
  {
   "cell_type": "code",
   "execution_count": null,
   "metadata": {},
   "outputs": [],
   "source": []
  },
  {
   "cell_type": "code",
   "execution_count": null,
   "metadata": {},
   "outputs": [],
   "source": []
  },
  {
   "cell_type": "code",
   "execution_count": null,
   "metadata": {},
   "outputs": [],
   "source": []
  },
  {
   "cell_type": "code",
   "execution_count": null,
   "metadata": {},
   "outputs": [],
   "source": []
  },
  {
   "cell_type": "code",
   "execution_count": null,
   "metadata": {},
   "outputs": [],
   "source": []
  }
 ],
 "metadata": {
  "kernelspec": {
   "display_name": "Python 3",
   "language": "python",
   "name": "python3"
  },
  "language_info": {
   "codemirror_mode": {
    "name": "ipython",
    "version": 3
   },
   "file_extension": ".py",
   "mimetype": "text/x-python",
   "name": "python",
   "nbconvert_exporter": "python",
   "pygments_lexer": "ipython3",
   "version": "3.8.5"
  }
 },
 "nbformat": 4,
 "nbformat_minor": 4
}
